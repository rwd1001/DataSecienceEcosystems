{
 "cells": [
  {
   "cell_type": "markdown",
   "id": "e5687e6d-1bcf-49d4-bc4a-28bd5af3f426",
   "metadata": {},
   "source": [
    "# Data Science Tools and Ecosystem"
   ]
  },
  {
   "cell_type": "markdown",
   "id": "a49972ff-c80f-4d2b-ae96-d30ed2803e5a",
   "metadata": {},
   "source": [
    "In this notebook, Data Secience Tools and Ecosystems are summarized."
   ]
  },
  {
   "cell_type": "markdown",
   "id": "7a42cd9c-f3dd-4e76-ad78-0c61b5e0bfa5",
   "metadata": {},
   "source": [
    "**Objectives:**\n",
    "* List the popular languages used in Data Science\n",
    "* List the popular libraries used in Data Science\n",
    "* List some tools used in Data Science\n",
    "* Try some arithmetic expressions in Python"
   ]
  },
  {
   "cell_type": "markdown",
   "id": "682d76cc-28eb-40b8-8b7f-c739578e8fb5",
   "metadata": {},
   "source": [
    "## Author\n",
    "Raad Shehada"
   ]
  },
  {
   "cell_type": "markdown",
   "id": "1add363f-cd92-4389-8b4f-89eef5dbedc2",
   "metadata": {},
   "source": [
    "**Some of the popular languages that Data Scientist use are :**\n",
    "1. R\n",
    "2. Python\n",
    "3. C++\n",
    "4. Julia\n",
    "5. Java\n"
   ]
  },
  {
   "cell_type": "markdown",
   "id": "5d2710f9-d221-4286-9273-672321dbf2eb",
   "metadata": {},
   "source": [
    "**Some of the commonly used libraries used by Data Scientist include :**\n",
    "1. Numpy\n",
    "2. Pandas\n",
    "3. Matplotlib\n",
    "4. Seaborn\n",
    "5. Scikit-learn\n"
   ]
  },
  {
   "cell_type": "markdown",
   "id": "c49194aa-d6f1-42bb-97d9-9c6deccf6586",
   "metadata": {},
   "source": [
    "| Data Science Tools |\n",
    "---------------------|\n",
    "| Jupyter Notebook |\n",
    "| RStudio |\n",
    "| Vs Code |"
   ]
  },
  {
   "cell_type": "markdown",
   "id": "19a11a9c-f3f7-413f-8aa1-ed35cd70fdb3",
   "metadata": {},
   "source": [
    "### Below are a few examples of evaluating arithmetic expressions in Python"
   ]
  },
  {
   "cell_type": "code",
   "execution_count": 1,
   "id": "1a8d7274-3e30-49d3-9801-57b532e6f917",
   "metadata": {},
   "outputs": [
    {
     "data": {
      "text/plain": [
       "17"
      ]
     },
     "execution_count": 1,
     "metadata": {},
     "output_type": "execute_result"
    }
   ],
   "source": [
    "#This a simple arithmetic expression to multipy the add integers\n",
    "(3*4)+5"
   ]
  },
  {
   "cell_type": "code",
   "execution_count": 2,
   "id": "cf683269-834f-4b3d-88e0-8cd23055d586",
   "metadata": {},
   "outputs": [
    {
     "data": {
      "text/plain": [
       "3.3333333333333335"
      ]
     },
     "execution_count": 2,
     "metadata": {},
     "output_type": "execute_result"
    }
   ],
   "source": [
    "#This will convert 200 minutes to hours by dividing by 60\n",
    "minutes = 200\n",
    "hours = 200 /60\n",
    "hours"
   ]
  },
  {
   "cell_type": "code",
   "execution_count": null,
   "id": "06bb02cd-f87d-433a-9044-24a7efd8c59b",
   "metadata": {},
   "outputs": [],
   "source": []
  }
 ],
 "metadata": {
  "kernelspec": {
   "display_name": "Python 3 (ipykernel)",
   "language": "python",
   "name": "python3"
  },
  "language_info": {
   "codemirror_mode": {
    "name": "ipython",
    "version": 3
   },
   "file_extension": ".py",
   "mimetype": "text/x-python",
   "name": "python",
   "nbconvert_exporter": "python",
   "pygments_lexer": "ipython3",
   "version": "3.11.4"
  }
 },
 "nbformat": 4,
 "nbformat_minor": 5
}
